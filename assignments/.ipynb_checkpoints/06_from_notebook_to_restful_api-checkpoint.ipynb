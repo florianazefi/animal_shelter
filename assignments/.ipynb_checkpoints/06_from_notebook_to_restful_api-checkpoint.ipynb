{
 "cells": [
  {
   "cell_type": "markdown",
   "id": "b7a28253",
   "metadata": {},
   "source": [
    "# From Notebook to RESTful API\n",
    "\n",
    "### <mark> Exercise 1: the script </mark>\n",
    "\n",
    "Run the FastAPI app with the following command:\n",
    "\n",
    "```bash\n",
    "poetry run uvicorn app.app:app --reload\n",
    "```\n",
    "\n",
    "This should state _'Uvicorn running on <some address, e.g. http://127.0.0.1:8000>'_ Copy and paste this address open it with your favourite browser. Verify the page says _'{\"detail\":\"Not Found\"}'_.\n",
    "\n",
    "Open `animal_shelter/app/app.py` and examine the ping function. It has a decorator `@app.get(\"/api/v1/ping\")`. Copy the string `/api/v1/ping` to your address in the browser, e.g. http://127.0.0.1:8000/api/v1/ping. Do you see 'value_error.missing'? This error occurs because the ping function requires an argument (n_times) but that argument is not provided. \n",
    "\n",
    "Append `?n_times=4` to your address, e.g.http://127.0.0.1:8000/api/v1/ping/?n_times=4. This provides the value 4 as value for the parameters `n_times`. Verify that you see _\"pongpongpongpong\"_. Congratulations! You are now ready to extend this script with the code from the notebooks. \n",
    "\n",
    "Navigate to http://127.0.0.1:8000/docs \n",
    "\n",
    "Verify that you see ping and predict. \n",
    "\n",
    "Execute ping by clicking on it -> 'Try it out' -> enter a value for n_times -> execute.\n"
   ]
  },
  {
   "cell_type": "markdown",
   "id": "635cf726",
   "metadata": {},
   "source": [
    "### <mark> Exercise 2: From Notebook to CLI </mark>\n",
    "\n",
    "Your favorite Data Scientist created a model that can predict outcome types.\n",
    "\n",
    "We have a CLI, but a different model serving pattern is required: a RESTful API.\n",
    "The API should accept a CSV via the route `/api/v1/predict/` and return a CSV with predictions.\n",
    "\n",
    "Run the FastAPI app with the following command:\n",
    "\n",
    "```bash\n",
    "poetry run uvicorn app.app:app --reload\n",
    "```\n",
    "\n",
    "* Edit the file app/app.py so that returns predictions. Use the cells below to POST a CSV and checkout the response. The `predict function parses the incoming CSV into a DataFrame and returns the  DataFrame as a valid response.\n",
    "* Bonus: Its inefficient to load the model at every request: can you make sure it's only loaded on startup?\n",
    "* Bonus: We'd like an endpoint to retrain the model given a CSV that is POSTed. Add an endpoint `/api/v1/train`. \n",
    "\n",
    "*Hint: use the code below.*"
   ]
  },
  {
   "cell_type": "code",
   "execution_count": null,
   "id": "03d91ec8",
   "metadata": {},
   "outputs": [],
   "source": [
    "import pandas as pd\n",
    "import joblib\n",
    "\n",
    "input_data = pd.read_csv('../data/test.csv')\n",
    "  \n",
    "# Process data. \n",
    "X_test = input_data.rename({'AnimalType': 'animal_type', \n",
    "                            'SexuponOutcome': 'sex_upon_outcome'}, \n",
    "                           axis=1)\n",
    "simple_cols = ['animal_type', 'sex_upon_outcome']\n",
    "X_pred_dummies = pd.get_dummies(X_test.loc[:, simple_cols])\n",
    "\n",
    "# Load model.\n",
    "outcome_model = joblib.load('output/outcome_model.pickle')\n",
    "\n",
    "# Create predictions. \n",
    "y_pred = outcome_model.predict_proba(X_pred_dummies)\n",
    "\n",
    "# Combine predictions with class names and animal name.\n",
    "classes = outcome_model.classes_.tolist()\n",
    "proba_df = pd.DataFrame(y_pred, columns=classes)\n",
    "predictions = input_data[['Name']].join(proba_df)"
   ]
  }
 ],
 "metadata": {
  "kernelspec": {
   "display_name": "Python 3 (ipykernel)",
   "language": "python",
   "name": "python3"
  },
  "language_info": {
   "codemirror_mode": {
    "name": "ipython",
    "version": 3
   },
   "file_extension": ".py",
   "mimetype": "text/x-python",
   "name": "python",
   "nbconvert_exporter": "python",
   "pygments_lexer": "ipython3",
   "version": "3.9.12"
  },
  "vscode": {
   "interpreter": {
    "hash": "97cc609b13305c559618ec78a438abc56230b9381f827f22d070313b9a1f3777"
   }
  }
 },
 "nbformat": 4,
 "nbformat_minor": 5
}
