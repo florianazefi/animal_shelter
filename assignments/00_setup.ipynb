{
 "cells": [
  {
   "cell_type": "markdown",
   "id": "surrounded-atlantic",
   "metadata": {},
   "source": [
    "<img src='../images/gdd-logo.png' width='300px' align='right' style=\"padding: 15px\">\n",
    "\n",
    "# <font color='#1EB0E0'>Preparation</font>\n",
    "\n",
    "Please make sure you follow the steps in this document and install Pyenv and Poetry before the course starts. Running into any problems? Don't hesitate to contact the trainer beforehand!\n",
    "\n",
    "There are two setup guides - one for Windows and another for Mac\n",
    "\n",
    "- [Windows](#windows)\n",
    "- [Mac](#mac)"
   ]
  },
  {
   "cell_type": "markdown",
   "id": "secret-rachel",
   "metadata": {},
   "source": [
    "<a ID='windows' ></a>\n",
    "## <font color='#1EB0E0'>Windows</font>\n",
    "\n",
    "This is the installation guide for Pyenv and Poetry on Windows. \n",
    "\n",
    "## Install Pyenv on Windows\n",
    "\n",
    "### Step 1: Install pyenv(-win)\n",
    "\n",
    "The first step is to open a terminal. \n",
    "\n",
    "Make sure that you are using **Git Bash** or **Windows Powershell** for this step; **Command Prompt** and **Anaconda Prompt** will not work for this step. \n",
    "\n",
    "Download the [pyenv-win](https://github.com/pyenv-win/pyenv-win) project (Windows version of Pyenv) from Github with the following command in your terminal:\n",
    "```bash\n",
    "git clone https://github.com/pyenv-win/pyenv-win.git $HOME/.pyenv\n",
    "```"
   ]
  },
  {
   "cell_type": "markdown",
   "id": "occasional-permission",
   "metadata": {},
   "source": [
    "### Step 2: Set Environment Variables\n",
    "\n",
    "In your **powershell** window run the following lines,\n",
    "\n",
    "1. This will add PYENV, PYENV_HOME and PYENV_ROOT to your Environment Variables:\n",
    "\n",
    "```powershell\n",
    "[System.Environment]::SetEnvironmentVariable('PYENV',$env:USERPROFILE + \"\\.pyenv\\pyenv-win\\\",\"User\")\n",
    "[System.Environment]::SetEnvironmentVariable('PYENV_ROOT',$env:USERPROFILE + \"\\.pyenv\\pyenv-win\\\",\"User\")\n",
    "[System.Environment]::SetEnvironmentVariable('PYENV_HOME',$env:USERPROFILE + \"\\.pyenv\\pyenv-win\\\",\"User\")\n",
    "```\n",
    "\n",
    "2. This will add the following paths to your USER PATH variable, which will enable access to the pyenv command:\n",
    "\n",
    "```bash\n",
    "[System.Environment]::SetEnvironmentVariable('path', $env:USERPROFILE + \"\\.pyenv\\pyenv-win\\bin;\" + $env:USERPROFILE + \"\\.pyenv\\pyenv-win\\shims;\" + [System.Environment]::GetEnvironmentVariable('path', \"User\"),\"User\")\n",
    "```"
   ]
  },
  {
   "cell_type": "markdown",
   "id": "uniform-string",
   "metadata": {},
   "source": [
    "### Step 3: Verify that it works\n",
    "\n",
    "Open a new terminal session (e.g. **Command Prompt** or **Git Bash**)and confirm the installation by typing \n",
    "```bash\n",
    "pyenv\n",
    "```\n",
    "\n",
    "You should see a list of pyenv commands. If you don’t, there’s probably something wrong with your PATH."
   ]
  },
  {
   "cell_type": "markdown",
   "id": "advisory-bangladesh",
   "metadata": {},
   "source": [
    "### Step 4: Install Python in Pyenv\n",
    "Next, install Python (via the command line): \n",
    "```bash\n",
    "pyenv install 3.9.6\n",
    "```\n",
    "Then, run this command: \n",
    "```bash\n",
    "pyenv global 3.9.6\n",
    "```\n",
    "This will make this version of Python the default version to use on your machine. \n",
    "\n",
    "This version should now be shown if you run \n",
    "```bash\n",
    "python -V\n",
    "```"
   ]
  },
  {
   "cell_type": "markdown",
   "id": "ready-commonwealth",
   "metadata": {},
   "source": [
    "### <font color='purple'>Not working? 😫 Try this...</font>\n",
    "\n",
    "- You might need to disable the built-in Python launcher: Search for \"Manage App Execution Aliases\" and turning off the \"App Installer\" aliases for Python (Python & Python3).\n",
    "- Do you have a folder `C:\\Users\\YOURUSERNAME\\.pyenv`? If not, try to reinstall with Zip file! \n",
    "    - Download link: `https://github.com/pyenv-win/pyenv-win/archive/master.zip`\n",
    "    - Create a `.pyenv` directory under `C:\\Users\\YOURUSERNAME`\n",
    "    - Extract and move files to  `C:\\Users\\YOURUSERNAME\\.pyenv\\`\n",
    "    - Ensure there is a bin folder under `C:\\Users\\YOURUSERNAME\\.pyenv\\pyenv-win`\n",
    "    - Repeat steps 2 and 3"
   ]
  },
  {
   "cell_type": "markdown",
   "id": "recreational-girlfriend",
   "metadata": {},
   "source": [
    "## [Install poetry](https://python-poetry.org/docs/master/#installing-with-the-official-installer) on Windows\n",
    "\n",
    "### Step 1: Install poetry\n",
    "\n",
    "Run the following in **Windows Powershell**.\n",
    "\n",
    "```bash\n",
    "(Invoke-WebRequest -Uri https://install.python-poetry.org -UseBasicParsing).Content | python -\n",
    "```\n",
    "\n",
    "#### <font color='purple'>The installer may then ask you to manually add poetry to the Path, which is explained in step 2.</font>\n",
    "    \n",
    "#### <font color='purple'>If it does not, skip to step 3.</font>"
   ]
  },
  {
   "cell_type": "markdown",
   "id": "modular-legend",
   "metadata": {},
   "source": [
    "### Step 2: Add poetry to your path\n",
    "\n",
    "Navigate to `Control Panel > System > Advanced System Settings`. If you can't find it, search for \"Advanced System Settings\" in your search bar.\n",
    "\n",
    "Then click `Environment Variables` (in the lower right corner). \n",
    "\n",
    "Now select the `Path` environment variable, then click `Edit` and then `New`. \n",
    "\n",
    "This will allow you add the path they specify, for example: \n",
    "\n",
    "`c:\\users\\USERNAME\\AppData\\Roaming\\Python\\Scripts`\n",
    "\n",
    "Click Ok to confirm. \n"
   ]
  },
  {
   "cell_type": "markdown",
   "id": "fewer-cream",
   "metadata": {},
   "source": [
    "### Step 3: Verify that it works\n",
    "\n",
    "Open a new terminal. \n",
    "\n",
    "Verify that it works run the following command:\n",
    "```bash\n",
    "poetry --version\n",
    "```\n",
    "\n",
    "It should return something like\n",
    "\n",
    "```bash\n",
    "Poetry (version 1.2.0)\n",
    "```\n",
    "Does that work? Congratulations! You're all set. \n",
    " \n",
    "<!-- poetry config virtualenvs.in-project true -->"
   ]
  },
  {
   "cell_type": "markdown",
   "id": "secret-brunei",
   "metadata": {},
   "source": [
    "<a ID='windows' ></a>\n",
    "## <font color='#1EB0E0'>Mac OS</font>\n",
    "\n",
    "This is the installation guide for Pyenv and Poetry on Mac OS. \n",
    "\n",
    "## Install Pyenv on Mac OS\n",
    "\n",
    "### Step 1: [Homebrew](https://docs.brew.sh/Installation)\n",
    "\n",
    "On a Mac, I recommend using Homebrew to install pyenv. If you already use Homebrew, skip this step and proceed to step 2.  Otherwise, run this command in a MacOS terminal to install Homebrew on your Mac:\n",
    "```bash\n",
    "$ /bin/bash -c \"$(curl -fsSL https://raw.githubusercontent.com/Homebrew/install/master/install.sh)\"\n",
    "```\n",
    "(If you prefer not to use Homebrew, there are other install options available on the pyenv main repository.)"
   ]
  },
  {
   "cell_type": "markdown",
   "id": "likely-session",
   "metadata": {},
   "source": [
    "### Step 2: Install Pyenv\n",
    "\n",
    "Using Homebrew, installing pyenv is easy:\n",
    "```bash\n",
    "$ brew update\n",
    "$ brew install pyenv\n",
    "```\n",
    "\n",
    "After installing pyenv, you can upgrade to newer versions whenever you want using Homebrew.\n",
    "``` bash\n",
    "$ brew update\n",
    "$ brew upgrade pyenv\n",
    "```"
   ]
  },
  {
   "cell_type": "markdown",
   "id": "limited-wings",
   "metadata": {},
   "source": [
    "### Step 3: Enable pyenv\n",
    "\n",
    "In order for pyenv to work, you need to update your shell/terminal profile configuration.\n",
    "\n",
    "Where your shell profile is located depends on which shell you are using. An easy way to find out is the title bar of your macOS Terminal window. The middle of the text, to the left of the windows dimensions, displays which shell you’re using. Likely it is either bash or zsh (the last character in your shell prompt is a clue as well `$` typically means bash and `%` typically means zsh). \n",
    "\n",
    "If you’re using bash, your profile configuration is located at `~/.bash_profile`. If you’re using zsh, your profile consists of `~/.zprofile` and `~/.zshrc`. *Where `~` corresponds to `Users/YOURNAME`*.\n",
    "\n",
    "The following commands will add three lines to your configuration: \n",
    "\n",
    "1. The first line sets an environment variable (PYENV_ROOT) that points to the pyenv directory.\n",
    "\n",
    "```bash\n",
    "$ echo 'export PYENV_ROOT=\"$HOME/.pyenv\"' >> ~/.zprofile\n",
    "```\n",
    "\n",
    "2. The second line puts pyenv first in your search path so that the OS will find pyenv’s Python(s) before any other Pythons.\n",
    "\n",
    "```bash\n",
    "$ echo 'export PATH=\"$PYENV_ROOT/bin:$PATH\"' >> ~/.zprofile\n",
    "```\n",
    "\n",
    "3. The last line initializes pyenv each time you open a terminal.\n",
    "\n",
    "```bash\n",
    "$ echo -e 'if command -v pyenv 1>/dev/null 2>&1; then\\n  eval \"$(pyenv init -)\"\\nfi' >> ~/.zprofile\n",
    "```\n",
    "\n",
    "4. You may also need to append this to your path.\n",
    "\n",
    "```bash\n",
    "$ echo 'export PATH=\"$HOME/.pyenv/shims:$PATH\"' >> ~/.zprofile\n",
    "```\n",
    "\n",
    "#### <font color='purple'>You can also refer to the Pyenv docs for this stage: </font> [2. Configure your shell's environment for Pyenv](https://github.com/pyenv/pyenv#basic-github-checkout)."
   ]
  },
  {
   "cell_type": "markdown",
   "id": "improved-delight",
   "metadata": {},
   "source": [
    "### Step 4: Confirm Pyenv installation is working correctly\n",
    "\n",
    "Open a NEW terminal and type:\n",
    "```bash\n",
    "$ pyenv\n",
    "```\n",
    "\n",
    "You should see a list of pyenv commands. \n",
    "\n",
    "### Step 5: Install Python\n",
    "\n",
    "Next, install Python (via the command line): \n",
    "```bash\n",
    "$ pyenv install 3.9.6\n",
    "```\n",
    "Then, run this command: \n",
    "```bash\n",
    "$ pyenv global 3.9.6\n",
    "```\n",
    "This will make this version of Python the default version to use on your machine. \n",
    "\n",
    "This version should now be shown if you run \n",
    "```bash\n",
    "$ python -V\n",
    "```"
   ]
  },
  {
   "cell_type": "markdown",
   "id": "ambient-little",
   "metadata": {},
   "source": [
    "## [Install poetry](https://python-poetry.org/docs/master/#installing-with-the-official-installer) on Mac OS\n",
    "\n",
    "### Step 1: Install poetry\n",
    "Run the following command:\n",
    "```bash\n",
    "curl -sSL https://install.python-poetry.org | python3 -\n",
    "```\n",
    "\n",
    "#### <font color='purple'>The installer may then ask you to manually add poetry to the Path, which is explained in step 2.</font>\n",
    "    \n",
    "#### <font color='purple'>If it does not, skip to step 3.</font>"
   ]
  },
  {
   "cell_type": "markdown",
   "id": "opened-simon",
   "metadata": {},
   "source": [
    "### Step 2: Add poetry to your path\n",
    "If the installer is unable to do this automatically, it will ask you to manually add Poetry to the path.\n",
    "\n",
    "```bash\n",
    "$ echo 'export PATH=$PATH:$HOME/.poetry/bin' >> ~/.zprofile\n",
    "```"
   ]
  },
  {
   "cell_type": "markdown",
   "id": "searching-understanding",
   "metadata": {},
   "source": [
    "### Step 3: Verify that it works\n",
    "\n",
    "Open a new terminal. \n",
    "\n",
    "Verify that it works run the following command:\n",
    "```bash\n",
    "poetry --version\n",
    "```\n",
    "\n",
    "It should return something like\n",
    "\n",
    "```bash\n",
    "Poetry (version 1.2.0)\n",
    "```\n",
    "Does that work? Congratulations! You're all set.\n",
    "\n",
    "<!-- poetry config virtualenvs.in-project true -->"
   ]
  }
 ],
 "metadata": {
  "kernelspec": {
   "display_name": "Python 3.10.8 64-bit",
   "language": "python",
   "name": "python3"
  },
  "language_info": {
   "codemirror_mode": {
    "name": "ipython",
    "version": 3
   },
   "file_extension": ".py",
   "mimetype": "text/x-python",
   "name": "python",
   "nbconvert_exporter": "python",
   "pygments_lexer": "ipython3",
   "version": "3.10.8"
  },
  "vscode": {
   "interpreter": {
    "hash": "97cc609b13305c559618ec78a438abc56230b9381f827f22d070313b9a1f3777"
   }
  }
 },
 "nbformat": 4,
 "nbformat_minor": 5
}
