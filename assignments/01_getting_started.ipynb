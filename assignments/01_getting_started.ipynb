{
 "cells": [
  {
   "cell_type": "markdown",
   "id": "innocent-brass",
   "metadata": {
    "hideCode": true,
    "hidePrompt": true
   },
   "source": [
    "<img src='../images/gdd-logo.png' width='300px' align='right' style=\"padding: 15px\">\n",
    "\n",
    "# <font color='#1EB0E0'>Getting Started</font>\n",
    "\n",
    "In this notebook we help you get set up with a Python version management tool, as well as Poetry for controlling your packages.\n",
    "\n",
    "- [Python version management](#python)\n",
    "- [Poetry](#poetry)\n",
    "    - [Installing Poetry]()\n",
    "    - [Installing a package with Poetry]()\n",
    "    - [Creating a package with Poetry]()\n"
   ]
  },
  {
   "cell_type": "markdown",
   "id": "selective-supervision",
   "metadata": {},
   "source": [
    "<a id='python'></a>\n",
    "## <font color='#1EB0E0'>Python version management</font>\n",
    "\n",
    "Python version 3.9 is required for this project.\n",
    "\n",
    "Providing you have it installed, you can control this with **pyenv**. Otherwise you can use **conda**. \n",
    "\n",
    "\n",
    "### Option 1: pyenv\n",
    "\n",
    "In a terminal window, run\n",
    "\n",
    "```bash \n",
    "pyenv install 3.9.6\n",
    "```\n",
    "\n",
    "Set the default Python with the following command \n",
    "```bash\n",
    "pyenv global 3.9.6\n",
    "```\n",
    "\n",
    "Alternatively, to automatically activate a Python when you are in specific directory, navigate to that directory and run the rollowing command:\n",
    "```bash\n",
    "pyenv local 3.9.6\n",
    "```\n",
    "\n",
    "This [article](https://realpython.com/intro-to-pyenv/) offers more detail on how to use and work with pyenv."
   ]
  },
  {
   "cell_type": "markdown",
   "id": "rotary-requirement",
   "metadata": {},
   "source": [
    "### Option 2: conda\n",
    "\n",
    "In a terminal/Anaconda prompt window, run\n",
    "\n",
    "```bash \n",
    "conda create -n *yourenvname* python=3.9.6\n",
    "\n",
    "conda activate *yourenvname*\n",
    "```"
   ]
  },
  {
   "cell_type": "markdown",
   "id": "yellow-victorian",
   "metadata": {},
   "source": [
    "## <font color='#1EB0E0'>Poetry</font>\n",
    "\n",
    "### Installing Poetry\n",
    "\n",
    "Poetry is a tool for dependency management and packaging in Python. It allows you to declare the libraries your project depends on and it will manage (install/update) them for you in a virtual environment.\n",
    "\n",
    "If you do not have it installed yet, take a look the [Poetry installation guide](https://python-poetry.org/docs/master/#installing-with-the-official-installer) (make sure to add Poetry to your PATH).\n",
    "\n",
    "Check the installation by running the following in your terminal\n",
    "\n",
    "```bash \n",
    "poetry --version\n",
    "```\n",
    "\n",
    "### Installing a package with Poetry \n",
    "\n",
    "Navigate to the `animal_shelter` folder.\n",
    "\n",
    "Run the following command\n",
    "```bash\n",
    "poetry install\n",
    "```\n",
    "\n",
    "### <mark> Exercise: Investigaving the project structure</mark>\n",
    "\n",
    "Investigate the `animal_shelter` project structure. \n",
    "* What folders do we have in this project? What do you think these folders will contain? \n",
    "* Where are the .py files that contain the project code located? \n",
    "* Where are the files that will test the project code located? What does that directory structure look like? \n",
    "* If you would have some Jupyter notebooks containing exploratory data analysis, where would you want (or NOT want) to store these in this existing package structure? "
   ]
  },
  {
   "cell_type": "markdown",
   "id": "athletic-november",
   "metadata": {
    "hideCode": true,
    "hidePrompt": true
   },
   "source": [
    "### <mark>Exercise: Initialising a package with Poetry\n",
    "\n",
    "Navivate to one folder *above* the `animal_shelter`. \n",
    "\n",
    "Create a folder `test1` (verify that you see two folders: `animal_shelter` and `test1`). \n",
    "\n",
    "Now navigate inside the `test1` folder and run the following command inside `test1`. Check what happens\n",
    "```bash\n",
    "poetry init\n",
    "```\n",
    "\n",
    "The `init` command will help you create a pyproject.toml file interactively by prompting you to provide basic information about your package. See [documentation](https://python-poetry.org/docs/cli/#init)."
   ]
  },
  {
   "cell_type": "markdown",
   "id": "outside-nelson",
   "metadata": {
    "hideCode": true,
    "hidePrompt": true
   },
   "source": [
    "### <mark>Exercise: Creating a package with Poetry</mark>\n",
    "    \n",
    "Navigate back one folder higher to the folder that contains `animal_shelter` and `test1`.\n",
    "\n",
    "Run the following command and investigate the newly created folder `test2`. \n",
    "```bash\n",
    "poetry new test2\n",
    "```\n",
    "\n",
    "`poetry new` will help you kickstart your new Python project by creating a directory structure suitable for most projects. See [documentation](https://python-poetry.org/docs/cli/#new). "
   ]
  },
  {
   "cell_type": "markdown",
   "id": "advanced-flower",
   "metadata": {
    "hideCode": true,
    "hidePrompt": true
   },
   "source": [
    "### <mark>Exercise: Adding to a Poetry package</mark>\n",
    "\n",
    "Open `pyproject.toml` in `test2` and see what's in there. What is listed under `[tool.poetry.dependencies]`? \n",
    "\n",
    "Navigate into the `test2` folder (if you are not already) and run `poetry add numpy`.\n",
    "\n",
    "Open `pyproject.toml` again. What is now listed under `[tool.poetry.dependencies]`? \n",
    "\n",
    "`poetry add` command adds required packages to your pyproject.toml and installs them. See [documentation](https://python-poetry.org/docs/cli/#add). Other commands related to managing which packages are installed and listed in the pyproject.toml are `remove` and `update`. "
   ]
  }
 ],
 "metadata": {
  "hide_code_all_hidden": true,
  "kernelspec": {
   "display_name": "Python 3.10.8 ('ing-prod-ml')",
   "language": "python",
   "name": "python3"
  },
  "language_info": {
   "codemirror_mode": {
    "name": "ipython",
    "version": 3
   },
   "file_extension": ".py",
   "mimetype": "text/x-python",
   "name": "python",
   "nbconvert_exporter": "python",
   "pygments_lexer": "ipython3",
   "version": "3.9.6"
  },
  "vscode": {
   "interpreter": {
    "hash": "b92e60eae2fb62fc3b510bf1ccf5bd3d9e6c3a5be43b3dc2ce21cf1252e77a0e"
   }
  }
 },
 "nbformat": 4,
 "nbformat_minor": 5
}
