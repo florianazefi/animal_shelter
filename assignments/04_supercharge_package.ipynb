{
 "cells": [
  {
   "cell_type": "markdown",
   "id": "impossible-sunrise",
   "metadata": {},
   "source": [
    "<img src='../images/gdd-logo.png' width='300px' align='right' style=\"padding: 15px\">\n",
    "\n",
    "# <font color='#1EB0E0'>Supercharge your package</font>\n",
    "\n",
    "In this assignment we will take our package to the next level\n",
    "\n",
    "- [Type hinting & checking](#type)\n",
    "- [Testing](#test)\n",
    "- [Logging](#log)\n",
    "- [Documentation](#docs)\n",
    "- [Build the package](#build)"
   ]
  },
  {
   "cell_type": "code",
   "execution_count": 1,
   "id": "stock-metallic",
   "metadata": {},
   "outputs": [],
   "source": [
    "%load_ext autoreload\n",
    "%autoreload 2"
   ]
  },
  {
   "cell_type": "markdown",
   "id": "virtual-wealth",
   "metadata": {},
   "source": [
    "<a id='type'></a>\n",
    "## Type hinting & checking\n",
    "\n",
    "\n",
    "Type hints make it much easier to statically reason about your code.\n",
    "Signalling what types are used by your code can serve as documentation, help linters & IDEs, and help catch errors by checking the hints.\n",
    "\n",
    "Type hinting in Python is not necesarily a do or do-not choice: you can gradually add type hints.\n",
    "A good practice is to at least add type hints to the public functionality of your library."
   ]
  },
  {
   "cell_type": "markdown",
   "id": "stone-creek",
   "metadata": {},
   "source": [
    "Let's discuss some examples.\n",
    "\n",
    "`-> None` tells us that this function returns `None`."
   ]
  },
  {
   "cell_type": "code",
   "execution_count": 1,
   "id": "mathematical-annotation",
   "metadata": {},
   "outputs": [
    {
     "name": "stdout",
     "output_type": "stream",
     "text": [
      "hello\n"
     ]
    }
   ],
   "source": [
    "def p() -> None: \n",
    "    print('hello')\n",
    "\n",
    "?p\n",
    "\n",
    "p()"
   ]
  },
  {
   "cell_type": "markdown",
   "id": "reduced-gauge",
   "metadata": {},
   "source": [
    "The function below accepts an argument `names` that should consist of a list with strings in it."
   ]
  },
  {
   "cell_type": "code",
   "execution_count": 2,
   "id": "banned-sheep",
   "metadata": {},
   "outputs": [
    {
     "name": "stdout",
     "output_type": "stream",
     "text": [
      "Hello Jane\n",
      "Hello Mike\n"
     ]
    }
   ],
   "source": [
    "def greet_all(names: list[str]) -> None: \n",
    "    for name in names:\n",
    "        print('Hello ' + name)\n",
    "\n",
    "?greet_all\n",
    "\n",
    "\n",
    "greet_all(['Jane', 'Mike'])"
   ]
  },
  {
   "cell_type": "markdown",
   "id": "covered-potter",
   "metadata": {},
   "source": [
    "Type hints are *hints*.\n",
    "You can still disregard them:"
   ]
  },
  {
   "cell_type": "code",
   "execution_count": 3,
   "id": "wanted-murray",
   "metadata": {},
   "outputs": [
    {
     "name": "stdout",
     "output_type": "stream",
     "text": [
      "Hello Jane\n",
      "Hello Mike\n"
     ]
    }
   ],
   "source": [
    "greet_all(('Jane', 'Mike'))"
   ]
  },
  {
   "cell_type": "markdown",
   "id": "electrical-johnson",
   "metadata": {},
   "source": [
    "[Duck typing](https://en.wikipedia.org/wiki/Duck_typing) is supported: you can signal that `names` just needs to be something to iterate over:"
   ]
  },
  {
   "cell_type": "code",
   "execution_count": 4,
   "id": "musical-genre",
   "metadata": {},
   "outputs": [],
   "source": [
    "from typing import Iterable\n",
    "\n",
    "def greet_all(names: Iterable[str]) -> None:\n",
    "    for name in names: \n",
    "        print('Hello ' + name)"
   ]
  },
  {
   "cell_type": "markdown",
   "id": "waiting-dispute",
   "metadata": {},
   "source": [
    "### <mark> Exercise: mypy</mark>\n",
    "\n",
    "Add type hints to modules `data.py` and `features.py` so that mypy doesn't return any errors when you run\n",
    " \n",
    "```sh\n",
    "poetry run mypy src/ --ignore-missing-imports\n",
    "```\n",
    "\n",
    "<!-- https://stackoverflow.com/questions/60247157/how-can-i-get-stub-files-for-matplotlib-numpy-scipy-pandas-etc -->\n",
    "\n",
    "**Bonus**: extend your pre-commit to include mypy!"
   ]
  },
  {
   "cell_type": "markdown",
   "id": "positive-memorabilia",
   "metadata": {},
   "source": [
    "<a id='test'></a>\n",
    "## Testing"
   ]
  },
  {
   "cell_type": "markdown",
   "id": "dental-quantum",
   "metadata": {},
   "source": [
    "Tests help you determine if your code does what you expected it to do.\n",
    "\n",
    "There are different types of test.\n",
    "The [most important tests](http://slides.com/treycausey/pydata2015#/) for Data Scientists are:\n",
    "- **unit tests** that focus on small units of code like functions; \n",
    "- **integration tests** for whole systems;\n",
    "- **regression tests** to test if software performs the same after changes;\n",
    "\n",
    "In addition, you probably want to have systems checking data quality and monitoring if your model is still performing as expected.\n",
    "Those test won't be discussed here: we'll only show unit tests.\n",
    "\n",
    "[Unit testing](https://jeffknupp.com/blog/2013/12/09/improve-your-python-understanding-unit-testing/) is easy as calling your function and `assert`-ing that the function behaves as expected:"
   ]
  },
  {
   "cell_type": "code",
   "execution_count": 22,
   "id": "bulgarian-acrylic",
   "metadata": {},
   "outputs": [],
   "source": [
    "from animal_shelter.data import convert_camel_case\n",
    "\n",
    "result = convert_camel_case('CamelCase')\n",
    "expected = 'camel_case'  # TODO: Adjust this to see what happens.\n",
    "\n",
    "assert result == expected  # Check if it's true!"
   ]
  },
  {
   "cell_type": "markdown",
   "id": "together-priest",
   "metadata": {},
   "source": [
    "We `expected` something and compared it to the `result` our function returned, it's as easy as that.\n",
    "\n",
    "Python unit tests generally go in a folder called `tests/` and contain modules starting with `test_`.\n",
    "These modules again contain functions and classes starting with respectively `test_` and `Test`.\n",
    "It's tests all the way down.\n",
    "\n",
    "Our project has a folder called `tests/` and the modules `test_data.py` and `test_features.py` contain unit tests to check the functions that you've made. \n",
    "Check them out!\n",
    "\n",
    "Note that most functions in `test_features.py` don't use `assert`, but use the `pandas` utility function `assert_series_equal()` to check if `Series` are the same.\n",
    "Many libraries have utility functions to make writing tests easier.\n",
    "\n",
    "Run the unit tests using [`pytest`](https://docs.pytest.org/en/latest/):\n",
    "\n",
    "```bash\n",
    "$ poetry run pytest tests/\n",
    "```\n",
    "\n",
    "You'll get some error messages because `test_is_dog()` has not been implemented yet!"
   ]
  },
  {
   "cell_type": "markdown",
   "id": "handed-jesus",
   "metadata": {},
   "source": [
    "### <mark> Exercise: pytest</mark>\n",
    "\n",
    "Create a test case to check if `is_dog()` is implemented correctly.\n",
    "\n",
    "Make sure that `pytest` doesn't return any errors.\n",
    "\n",
    "**Bonus**: `is_dog` raises an exception if something other than cats or dogs is encountered.\n",
    "\n",
    "Test that this exception if raised if invalid input is given."
   ]
  },
  {
   "cell_type": "markdown",
   "id": "portable-speed",
   "metadata": {},
   "source": [
    "<a id='log'></a>\n",
    "## Logging\n",
    "\n",
    "Logging helps you understand what's happening when your code is being run.\n",
    "\n",
    "A common mistake is that people *configure* logging in their library.\n",
    "This can give problem if the application using your library also wants to configure logger.\n",
    "\n",
    "### <mark> Exercise: pytest</mark>\n",
    "\n",
    "The function `check_is_dog()` you were provided with has a print statement.\n",
    "```python\n",
    "def check_is_dog(animal_type):\n",
    "    \"\"\"Check if the animal is a dog, otherwise return False.\n",
    "    Parameters\n",
    "    ----------\n",
    "    animal_type : pandas.Series\n",
    "        Type of animal\n",
    "    Returns\n",
    "    -------\n",
    "    result : pandas.Series\n",
    "        Dog or not\n",
    "    \"\"\"\n",
    "    is_cat_dog = animal_type.str.lower().isin(['dog', 'cat'])\n",
    "    if not is_cat_dog.all():\n",
    "        print('Found something else but dogs and cats:\\n%s',\n",
    "              animal_type[~is_cat_dog])\n",
    "        raise RuntimeError(\"Found pets that are not dogs or cats.\")\n",
    "    is_dog = animal_type.str.lower() == 'dog'\n",
    "    return is_dog\n",
    "```"
   ]
  },
  {
   "cell_type": "markdown",
   "id": "thrown-killer",
   "metadata": {},
   "source": [
    "Your task is to replace this print statement and error raise with a logging call. \n",
    "\n",
    "Afterwards, run the cells below to check the logging. You can experiment with setting different logging levels.\n",
    "```python\n",
    "logger.setLevel(level=logging.CRITICAL)\n",
    "```"
   ]
  },
  {
   "cell_type": "code",
   "execution_count": 51,
   "id": "02604b52",
   "metadata": {},
   "outputs": [],
   "source": [
    "def check_is_dog(animal_type):\n",
    "    \"\"\"Check if the animal is a dog, otherwise return False.\n",
    "    Parameters\n",
    "    ----------\n",
    "    animal_type : pandas.Series\n",
    "        Type of animal\n",
    "    Returns\n",
    "    -------\n",
    "    result : pandas.Series\n",
    "        Dog or not\n",
    "    \"\"\"\n",
    "    is_cat_dog = animal_type.str.lower().isin(['dog', 'cat'])\n",
    "    if not is_cat_dog.all():\n",
    "        logging.error(f\"Found something else but dogs and cats :\\n' {animal_type[~is_cat_dog]}\")\n",
    "        #print('Found something else but dogs and cats:\\n%s',animal_type[~is_cat_dog])\n",
    "        #raise RuntimeError(\"Found pets that are not dogs or cats.\")\n",
    "    is_dog = animal_type.str.lower() == 'dog'\n",
    "    return is_dog"
   ]
  },
  {
   "cell_type": "code",
   "execution_count": 52,
   "id": "suburban-webmaster",
   "metadata": {},
   "outputs": [],
   "source": [
    "import pandas as pd\n",
    "#from animal_shelter.features import check_is_dog\n",
    "\n",
    "# Create some data to test the function logging\n",
    "cat_dog = pd.Series(['Cat', 'Dog'])\n",
    "cat_dog_pig = pd.Series(['Cat', 'Dog', 'Pig'])"
   ]
  },
  {
   "cell_type": "code",
   "execution_count": 53,
   "id": "rational-walter",
   "metadata": {},
   "outputs": [],
   "source": [
    "import logging\n",
    "\n",
    "# This allows us to update the level of the logging\n",
    "logging.basicConfig(level=logging.CRITICAL)"
   ]
  },
  {
   "cell_type": "code",
   "execution_count": 54,
   "id": "palestinian-donna",
   "metadata": {},
   "outputs": [],
   "source": [
    "logger = logging.getLogger()\n",
    "logger.setLevel(level=logging.INFO)"
   ]
  },
  {
   "cell_type": "code",
   "execution_count": 55,
   "id": "chronic-clinton",
   "metadata": {},
   "outputs": [
    {
     "data": {
      "text/plain": [
       "0    False\n",
       "1     True\n",
       "dtype: bool"
      ]
     },
     "execution_count": 55,
     "metadata": {},
     "output_type": "execute_result"
    }
   ],
   "source": [
    "check_is_dog(cat_dog)"
   ]
  },
  {
   "cell_type": "code",
   "execution_count": 56,
   "id": "dated-subsection",
   "metadata": {},
   "outputs": [
    {
     "name": "stderr",
     "output_type": "stream",
     "text": [
      "ERROR:root:Found something else but dogs and cats :\n",
      "' 2    Pig\n",
      "dtype: object\n"
     ]
    },
    {
     "data": {
      "text/plain": [
       "0    False\n",
       "1     True\n",
       "2    False\n",
       "dtype: bool"
      ]
     },
     "execution_count": 56,
     "metadata": {},
     "output_type": "execute_result"
    }
   ],
   "source": [
    "check_is_dog(cat_dog_pig)"
   ]
  },
  {
   "cell_type": "markdown",
   "id": "important-fabric",
   "metadata": {},
   "source": [
    "<a id='docs'></a>\n",
    "## Documentation"
   ]
  },
  {
   "cell_type": "markdown",
   "id": "surface-torture",
   "metadata": {},
   "source": [
    "Documentation will help the users of your code.\n",
    "Having documentation in your codebase is already good, but we can use Sphinx to make the documentation easier to write.\n",
    "\n",
    "\n",
    "### <mark>Exercise 1: Sphinx </mark>\n",
    "\n",
    "Install sphinx, create a sub-directory ‘docs’ and run `sphinx-quickstart` inside the docs directory.\n",
    "\n",
    "Run:  \n",
    "```bash\n",
    "poetry add --dev sphinx\n",
    "mkdir docs\n",
    "cd docs\n",
    "poetry run sphinx-quickstart\n",
    "```\n",
    "\n",
    "Create an HTML version of the generated docs by running `make html` inside the docs directory. \n",
    "\n",
    "Run:  \n",
    "```\n",
    "poetry run make html\n",
    "```\n",
    "\n",
    "Open the generated pages in your browser; the HTML pages can be found in `_build/html`.\n",
    "\n",
    "\n",
    "###  <mark>Exercise 2: Docstrings</mark>\n",
    "\n",
    "<!-- Add some API documentation using docstrings + autodoc. -->\n",
    "To automatically include docstrings in the documentation, \n",
    "\n",
    "First edit the `docs/conf.py`: \n",
    "\n",
    "```python\n",
    "extensions = [\n",
    "    'sphinx.ext.autodoc',\n",
    "    'sphinx.ext.napoleon'\n",
    "]\n",
    "```\n",
    "\n",
    "<!-- and uncomment\n",
    "```python\n",
    "import os\n",
    "import sys\n",
    "sys.path.insert(0, os.path.abspath('../src'))\n",
    "```\n",
    " -->\n",
    "Then extend the end of the `docs/index.rst` file with:\n",
    "\n",
    "```\n",
    "API\n",
    "---\n",
    "\n",
    "data module\n",
    "===========\n",
    "\n",
    ".. automodule:: animal_shelter.data\n",
    "   :members:\n",
    "   :undoc-members:\n",
    "   :show-inheritance:\n",
    "\n",
    "features module\n",
    "===============\n",
    "\n",
    ".. automodule:: animal_shelter.features\n",
    "   :members:\n",
    "   :undoc-members:\n",
    "   :show-inheritance:\n",
    "``` \n",
    "\n",
    "Recreate the docs by running \n",
    "```\n",
    "poetry run make clean\n",
    "poetry run make html\n",
    "```\n",
    "\n",
    "###  <mark>Exercise 3: ReadTheDocs theme</mark>\n",
    "\n",
    "Change the theme to the ReadTheDocs theme:\n",
    "Run \n",
    "```\n",
    "poetry add --dev sphinx-rtd-theme`\n",
    "```\n",
    "edit the `docs/conf.py` with: \n",
    "```python\n",
    "\n",
    "html_theme = 'sphinx_rtd_theme'\n",
    "```\n",
    "\n",
    "Recreate the docs by running \n",
    "```\n",
    "poetry run make clean\n",
    "poetry run make html\n",
    "```"
   ]
  },
  {
   "cell_type": "markdown",
   "id": "quarterly-samuel",
   "metadata": {},
   "source": [
    "<a id='docs'></a>\n",
    "## Building a Package\n",
    "\n",
    "Use poetry to build the package and inspect what is in the artefacts (=generated files).\n",
    "\n",
    "```bash\n",
    "poetry build\n",
    "```"
   ]
  },
  {
   "cell_type": "code",
   "execution_count": null,
   "id": "98209138",
   "metadata": {},
   "outputs": [],
   "source": []
  }
 ],
 "metadata": {
  "kernelspec": {
   "display_name": "Python 3 (ipykernel)",
   "language": "python",
   "name": "python3"
  },
  "language_info": {
   "codemirror_mode": {
    "name": "ipython",
    "version": 3
   },
   "file_extension": ".py",
   "mimetype": "text/x-python",
   "name": "python",
   "nbconvert_exporter": "python",
   "pygments_lexer": "ipython3",
   "version": "3.9.12"
  },
  "vscode": {
   "interpreter": {
    "hash": "b92e60eae2fb62fc3b510bf1ccf5bd3d9e6c3a5be43b3dc2ce21cf1252e77a0e"
   }
  }
 },
 "nbformat": 4,
 "nbformat_minor": 5
}
